{
 "cells": [
  {
   "cell_type": "code",
   "execution_count": 1,
   "metadata": {},
   "outputs": [
    {
     "name": "stderr",
     "output_type": "stream",
     "text": [
      "/Users/utkarshagrawal/anaconda3/lib/python3.9/site-packages/pandas/core/computation/expressions.py:21: UserWarning: Pandas requires version '2.8.4' or newer of 'numexpr' (version '2.8.3' currently installed).\n",
      "  from pandas.core.computation.check import NUMEXPR_INSTALLED\n",
      "/Users/utkarshagrawal/anaconda3/lib/python3.9/site-packages/pandas/core/arrays/masked.py:60: UserWarning: Pandas requires version '1.3.6' or newer of 'bottleneck' (version '1.3.5' currently installed).\n",
      "  from pandas.core import (\n"
     ]
    }
   ],
   "source": [
    "import numpy as np\n",
    "import warnings\n",
    "warnings.simplefilter(action='ignore', category=FutureWarning)\n",
    "import pandas as pd\n",
    "from matplotlib.pyplot import subplots\n",
    "import matplotlib.pyplot as pl\n",
    "import seaborn as sns\n",
    "from seaborn import set_style, pairplot, swarmplot,boxplot\n",
    "set_style(None)"
   ]
  },
  {
   "cell_type": "code",
   "execution_count": 2,
   "metadata": {},
   "outputs": [],
   "source": [
    "from scipy.special import factorial\n",
    "## Sklearn packages\n",
    "import sklearn as sk\n",
    "from sklearn.preprocessing import StandardScaler\n",
    "from sklearn.model_selection import train_test_split, KFold, cross_validate\n",
    "from sklearn.linear_model import LinearRegression, PoissonRegressor, LogisticRegression\n",
    "from sklearn.naive_bayes import GaussianNB\n",
    "from sklearn.neighbors import KNeighborsClassifier\n",
    "from sklearn.preprocessing import StandardScaler\n",
    "from sklearn.discriminant_analysis import LinearDiscriminantAnalysis, QuadraticDiscriminantAnalysis\n",
    "from sklearn.metrics import f1_score, precision_recall_fscore_support\n",
    "\n",
    "## statsmodel packages\n",
    "import statsmodels.api as sm\n",
    "\n",
    "from helper_functions import addline"
   ]
  },
  {
   "cell_type": "code",
   "execution_count": 4,
   "metadata": {},
   "outputs": [],
   "source": [
    "def prepare_train_X(X,y):\n",
    "    X['possession_per_pass'] = X['possession']/X['passes']\n",
    "\n",
    "    X['xg_per_shot'] = X['xg'] / X['shots_on_target']\n",
    "    X.loc[X['xg_per_shot']==np.inf,'xg_per_shot'] = 0\n",
    "\n",
    "    X['quality_of_shots'] = X['shots_on_target'] / X['shots']\n",
    "    X.loc[X['shots']==0,'quality_of_shots']=0\n",
    "\n",
    "    X['opp_xg_per_shot'] = X['opp_xg']/ X['opp_shots']\n",
    "    X.loc[X['opp_xg_per_shot']==np.inf,'opp_xg_per_shot'] = 0\n",
    "\n",
    "    X['opp_quality_of_shots'] = X['opp_shots_on_target'] / X['opp_shots']\n",
    "    X.loc[X['opp_shots']==0,'opp_quality_of_shots']=0\n",
    "\n",
    "    X = X.drop(columns=['goals','passes','opp_passes','xg','opp_xg','shots','opp_shots'])\n",
    "\n",
    "    X['Loss'] = 0\n",
    "    X.loc[(X['Win']==0) * (X['Draw']==0),'Loss'] = 1\n",
    "\n",
    "    X['win_opp_goals'] = X['Win'] * X['opp_goals']\n",
    "\n",
    "    ## Goals = 6 only occur 4 times. Thus these points have high leverage and we need to remove them\n",
    "    X = X[y<6]\n",
    "    y = y[y<6]\n",
    "    y = y[X['opp_goals']<6]\n",
    "    X = X.loc[X['opp_goals']<6]\n",
    "\n",
    "    return X,y\n",
    "\n",
    "\n",
    "def mean_goals(probs,goal_range=np.arange(0,6,1)):\n",
    "    return np.sum(probs*goal_range,axis=-1)"
   ]
  },
  {
   "cell_type": "code",
   "execution_count": 5,
   "metadata": {},
   "outputs": [
    {
     "data": {
      "text/html": [
       "<div>\n",
       "<style scoped>\n",
       "    .dataframe tbody tr th:only-of-type {\n",
       "        vertical-align: middle;\n",
       "    }\n",
       "\n",
       "    .dataframe tbody tr th {\n",
       "        vertical-align: top;\n",
       "    }\n",
       "\n",
       "    .dataframe thead th {\n",
       "        text-align: right;\n",
       "    }\n",
       "</style>\n",
       "<table border=\"1\" class=\"dataframe\">\n",
       "  <thead>\n",
       "    <tr style=\"text-align: right;\">\n",
       "      <th></th>\n",
       "      <th>goals</th>\n",
       "      <th>passes</th>\n",
       "      <th>possession</th>\n",
       "      <th>shots</th>\n",
       "      <th>shots_on_target</th>\n",
       "      <th>xg</th>\n",
       "      <th>opp_goals</th>\n",
       "      <th>opp_passes</th>\n",
       "      <th>opp_shots</th>\n",
       "      <th>opp_shots_on_target</th>\n",
       "      <th>opp_xg</th>\n",
       "      <th>Win</th>\n",
       "      <th>Draw</th>\n",
       "    </tr>\n",
       "  </thead>\n",
       "  <tbody>\n",
       "    <tr>\n",
       "      <th>0</th>\n",
       "      <td>2</td>\n",
       "      <td>485.0</td>\n",
       "      <td>46.3</td>\n",
       "      <td>8.0</td>\n",
       "      <td>6.0</td>\n",
       "      <td>1.25</td>\n",
       "      <td>1</td>\n",
       "      <td>543.0</td>\n",
       "      <td>13.0</td>\n",
       "      <td>4.0</td>\n",
       "      <td>1.46</td>\n",
       "      <td>1</td>\n",
       "      <td>0</td>\n",
       "    </tr>\n",
       "    <tr>\n",
       "      <th>1</th>\n",
       "      <td>0</td>\n",
       "      <td>773.0</td>\n",
       "      <td>71.7</td>\n",
       "      <td>12.0</td>\n",
       "      <td>5.0</td>\n",
       "      <td>1.54</td>\n",
       "      <td>1</td>\n",
       "      <td>303.0</td>\n",
       "      <td>11.0</td>\n",
       "      <td>5.0</td>\n",
       "      <td>1.27</td>\n",
       "      <td>0</td>\n",
       "      <td>0</td>\n",
       "    </tr>\n",
       "    <tr>\n",
       "      <th>2</th>\n",
       "      <td>0</td>\n",
       "      <td>420.0</td>\n",
       "      <td>38.3</td>\n",
       "      <td>11.0</td>\n",
       "      <td>5.0</td>\n",
       "      <td>1.30</td>\n",
       "      <td>2</td>\n",
       "      <td>675.0</td>\n",
       "      <td>15.0</td>\n",
       "      <td>6.0</td>\n",
       "      <td>1.63</td>\n",
       "      <td>0</td>\n",
       "      <td>0</td>\n",
       "    </tr>\n",
       "    <tr>\n",
       "      <th>3</th>\n",
       "      <td>1</td>\n",
       "      <td>313.0</td>\n",
       "      <td>35.4</td>\n",
       "      <td>15.0</td>\n",
       "      <td>6.0</td>\n",
       "      <td>1.57</td>\n",
       "      <td>5</td>\n",
       "      <td>579.0</td>\n",
       "      <td>12.0</td>\n",
       "      <td>7.0</td>\n",
       "      <td>1.62</td>\n",
       "      <td>0</td>\n",
       "      <td>0</td>\n",
       "    </tr>\n",
       "    <tr>\n",
       "      <th>4</th>\n",
       "      <td>3</td>\n",
       "      <td>553.0</td>\n",
       "      <td>55.1</td>\n",
       "      <td>21.0</td>\n",
       "      <td>7.0</td>\n",
       "      <td>2.15</td>\n",
       "      <td>1</td>\n",
       "      <td>473.0</td>\n",
       "      <td>8.0</td>\n",
       "      <td>5.0</td>\n",
       "      <td>1.15</td>\n",
       "      <td>1</td>\n",
       "      <td>0</td>\n",
       "    </tr>\n",
       "  </tbody>\n",
       "</table>\n",
       "</div>"
      ],
      "text/plain": [
       "   goals  passes  possession  shots  shots_on_target    xg  opp_goals  \\\n",
       "0      2   485.0        46.3    8.0              6.0  1.25          1   \n",
       "1      0   773.0        71.7   12.0              5.0  1.54          1   \n",
       "2      0   420.0        38.3   11.0              5.0  1.30          2   \n",
       "3      1   313.0        35.4   15.0              6.0  1.57          5   \n",
       "4      3   553.0        55.1   21.0              7.0  2.15          1   \n",
       "\n",
       "   opp_passes  opp_shots  opp_shots_on_target  opp_xg  Win  Draw  \n",
       "0       543.0       13.0                  4.0    1.46    1     0  \n",
       "1       303.0       11.0                  5.0    1.27    0     0  \n",
       "2       675.0       15.0                  6.0    1.63    0     0  \n",
       "3       579.0       12.0                  7.0    1.62    0     0  \n",
       "4       473.0        8.0                  5.0    1.15    1     0  "
      ]
     },
     "execution_count": 5,
     "metadata": {},
     "output_type": "execute_result"
    }
   ],
   "source": [
    "home_data = pd.read_csv('data/home_data_18_19.csv',index_col=0)\n",
    "away_data = pd.read_csv('data/away_data_18_19.csv',index_col=0)\n",
    "home_data.head()"
   ]
  },
  {
   "cell_type": "code",
   "execution_count": 6,
   "metadata": {},
   "outputs": [
    {
     "data": {
      "text/plain": [
       "(752,)"
      ]
     },
     "execution_count": 6,
     "metadata": {},
     "output_type": "execute_result"
    }
   ],
   "source": [
    "X = pd.DataFrame({'intercept':np.ones(home_data.shape[0] + away_data.shape[0])})\n",
    "cols = home_data.columns\n",
    "for col in cols:\n",
    "    X[col] = list(home_data[col]) + list(away_data[col])\n",
    "y = X['goals']\n",
    "\n",
    "X,y = prepare_train_X(X,y)\n",
    "\n",
    "y.shape"
   ]
  },
  {
   "cell_type": "code",
   "execution_count": 8,
   "metadata": {},
   "outputs": [],
   "source": [
    "log_cols = ['shots_on_target','opp_shots_on_target','possession']\n",
    "log_class = LogisticRegression()\n",
    "X_log = X[log_cols]\n",
    "y_log = np.ones(len(X))\n",
    "y_log[X['Win']==1] = 0\n",
    "y_log[X['Loss']==1] = 1\n",
    "y_log[X['Draw']==1] = 2\n",
    "\n",
    "X_train_log, X_test_log, y_train_log, y_test_log = train_test_split(X_log,y_log,test_size=0.2,shuffle=True,random_state=20)\n",
    "\n",
    "scaler = StandardScaler(copy=True)\n",
    "scaler = scaler.fit(X_train_log)\n",
    "X_train_log = scaler.transform(X_train_log)\n",
    "X_test_log = scaler.transform(X_test_log)\n",
    "log_res = log_class.fit(X_train_log,y_train_log)"
   ]
  },
  {
   "cell_type": "code",
   "execution_count": 9,
   "metadata": {},
   "outputs": [
    {
     "name": "stdout",
     "output_type": "stream",
     "text": [
      "Training error: 0.6422628951747088\n",
      "\n",
      "Testing error: 0.6026490066225165\n"
     ]
    }
   ],
   "source": [
    "print('Training error:', np.mean(log_class.predict(X_train_log) == y_train_log))\n",
    "print('')\n",
    "print('Testing error:', np.mean(log_class.predict(X_test_log) == y_test_log))"
   ]
  },
  {
   "cell_type": "code",
   "execution_count": 10,
   "metadata": {},
   "outputs": [
    {
     "name": "stdout",
     "output_type": "stream",
     "text": [
      "[[187  49  56]\n",
      " [ 55 199  55]\n",
      " [  0   0   0]]\n"
     ]
    },
    {
     "data": {
      "text/plain": [
       "<sklearn.metrics._plot.confusion_matrix.ConfusionMatrixDisplay at 0x15fa90d60>"
      ]
     },
     "execution_count": 10,
     "metadata": {},
     "output_type": "execute_result"
    },
    {
     "data": {
      "image/png": "[encoded data removed]",
      "text/plain": [
       "<Figure size 640x480 with 2 Axes>"
      ]
     },
     "metadata": {},
     "output_type": "display_data"
    }
   ],
   "source": [
    "cm = sk.metrics.confusion_matrix(log_class.predict(X_train_log),y_train_log,labels=[0,1,2])\n",
    "print(cm)\n",
    "sk.metrics.ConfusionMatrixDisplay.from_predictions(y_train_log,log_class.predict(X_train_log),labels=[0,1,2])"
   ]
  },
  {
   "cell_type": "code",
   "execution_count": null,
   "metadata": {},
   "outputs": [],
   "source": []
  }
 ],
 "metadata": {
  "kernelspec": {
   "display_name": "Python 3.9.13 ('base')",
   "language": "python",
   "name": "python3"
  },
  "language_info": {
   "codemirror_mode": {
    "name": "ipython",
    "version": 3
   },
   "file_extension": ".py",
   "mimetype": "text/x-python",
   "name": "python",
   "nbconvert_exporter": "python",
   "pygments_lexer": "ipython3",
   "version": "3.9.13"
  },
  "orig_nbformat": 4,
  "vscode": {
   "interpreter": {
    "hash": "46d4d6e35a705a453addec98352089b1c875d6193677971858623155cb10eb88"
   }
  }
 },
 "nbformat": 4,
 "nbformat_minor": 2
}
